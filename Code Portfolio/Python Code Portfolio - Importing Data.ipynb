{
 "cells": [
  {
   "cell_type": "code",
   "execution_count": null,
   "metadata": {},
   "outputs": [],
   "source": [
    "#the os library is important for navigating your filing system\n",
    "import os\n",
    "\n",
    "#reports your working directory\n",
    "os.getcwd()\n",
    "\n",
    "#moves down the directory tree from your current working directory\n",
    "os.chdir(\"Folder\\\\Folder\")\n",
    "\n",
    "#moves up the directory tree from your current working directory\n",
    "os.chdir(\"..\")\n",
    "\n",
    "#source: https://docs.python.org/3/library/os.html"
   ]
  },
  {
   "cell_type": "code",
   "execution_count": null,
   "metadata": {},
   "outputs": [],
   "source": [
    "#for opening basic files, like text files\n",
    "#x = w+ if you want to write to it, r if you don't.  r is the default.  \n",
    "file = open(\"filename.ext\", x)\n",
    "\n",
    "#don't forget to close them, too\n",
    "file.close()\n",
    "\n",
    "#for pulling data from an entire directory of files\n",
    "#this opens every file in a directory and copies every line containing an instance of a particular target string into a list\n",
    "storage_list = []\n",
    "files = os.listdir()\n",
    "for file in files:\n",
    "    f = open(file)\n",
    "    for line in f:\n",
    "        if \"target string\" in line:\n",
    "        storage_list.append(line) \n",
    "    f.close()\n",
    "\n",
    "#source: https://docs.python.org/3/library/functions.html#open"
   ]
  },
  {
   "cell_type": "code",
   "execution_count": null,
   "metadata": {},
   "outputs": [],
   "source": [
    "#Pandas is the core library for working with dataframes, and you'll want it for nice imports\n",
    "import pandas as pd\n",
    "\n",
    "#reads in a .csv file as a dataframe\n",
    "df = pd.read_csv(\"filename.csv\")\n",
    "\n",
    "#writes dataframe to a cvs file\n",
    "df.to_csv(\"filename.csv\")\n",
    "\n",
    "#reads in a .xls or .xlsx file as a dataframe\n",
    "pd.read_excel(\"filename.xls\")\n",
    "\n",
    "#sources: https://pandas.pydata.org/pandas-docs/stable/reference/api/pandas.read_csv.html\n",
    "#         https://pandas.pydata.org/pandas-docs/stable/reference/api/pandas.read_excel.html\n",
    "#         https://pandas.pydata.org/pandas-docs/stable/reference/api/pandas.DataFrame.to_csv.html"
   ]
  },
  {
   "cell_type": "code",
   "execution_count": null,
   "metadata": {},
   "outputs": [],
   "source": [
    "#Networkx is the core library for working with network data. Again, you'll want to have it loaded to import network data nicely\n",
    "import networkx as nx\n",
    "\n",
    "#for loading a .gml file as a networkx graph\n",
    "graph = nx.read_gml(\"filepath\")\n",
    "\n",
    "#source: https://networkx.github.io/documentation/networkx-1.10/reference/generated/networkx.readwrite.gml.read_gml.html"
   ]
  },
  {
   "cell_type": "code",
   "execution_count": null,
   "metadata": {},
   "outputs": [],
   "source": []
  }
 ],
 "metadata": {
  "kernelspec": {
   "display_name": "Python 3",
   "language": "python",
   "name": "python3"
  },
  "language_info": {
   "codemirror_mode": {
    "name": "ipython",
    "version": 3
   },
   "file_extension": ".py",
   "mimetype": "text/x-python",
   "name": "python",
   "nbconvert_exporter": "python",
   "pygments_lexer": "ipython3",
   "version": "3.6.5"
  }
 },
 "nbformat": 4,
 "nbformat_minor": 2
}
