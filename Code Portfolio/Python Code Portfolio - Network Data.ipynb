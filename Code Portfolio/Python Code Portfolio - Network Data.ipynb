{
 "cells": [
  {
   "cell_type": "code",
   "execution_count": 7,
   "metadata": {},
   "outputs": [],
   "source": [
    "#Networkx is the core library for working with network data. Again, you'll want to have it loaded to import network data nicely\n",
    "import networkx as nx\n",
    "\n",
    "#for random selections\n",
    "import random\n",
    "\n",
    "#for math\n",
    "import numpy as np"
   ]
  },
  {
   "cell_type": "code",
   "execution_count": null,
   "metadata": {},
   "outputs": [],
   "source": [
    "#for loading a .gml file as a networkx graph\n",
    "graph = nx.read_gml(\"filepath\")\n",
    "\n",
    "#for writing a graph to a gexf file:\n",
    "write_gexf(G, \"filepath\")\n",
    "\n",
    "#source: https://networkx.github.io/documentation/networkx-1.10/reference/generated/networkx.readwrite.gml.read_gml.html\n",
    "#        https://networkx.github.io/documentation/networkx-2.0/reference/readwrite/gexf.html"
   ]
  },
  {
   "cell_type": "code",
   "execution_count": null,
   "metadata": {},
   "outputs": [],
   "source": [
    "#make a graph by hand!\n",
    "# Creates an instance of a networkx graph.\n",
    "my_first_graph = nx.Graph() \n",
    "\n",
    "# Lets add some nodes to the graph\n",
    "my_first_graph.add_node(1)\n",
    "my_first_graph.add_node(2)\n",
    "my_first_graph.add_node(3)\n",
    "\n",
    "# Now lets add some connections\n",
    "my_first_graph.add_edge(1, 2)\n",
    "my_first_graph.add_edge(3, 2)\n",
    "\n",
    "#source: Yang Yeol Ahn, Network Science class"
   ]
  },
  {
   "cell_type": "code",
   "execution_count": null,
   "metadata": {},
   "outputs": [],
   "source": [
    "#average shortest pathlength\n",
    "nx.average_shortest_path_length(G)\n",
    "\n",
    "#average clustering coefficient\n",
    "nx.average_clustering(G)\n",
    "\n",
    "#shortest path length: can specify source and target, but if not it produces is a dictionary of shortest pathlengths for all node pairs\n",
    "nx.shortest_path_length(G, source=None, target=None)\n",
    "\n",
    "#Degree assortivity\n",
    "nx.degree_assortativity_coefficient(dolphin_net)\n",
    "\n",
    "#sources: https://networkx.github.io/documentation/networkx-1.9/reference/generated/networkx.algorithms.cluster.average_clustering.html\n",
    "#         https://networkx.github.io/documentation/networkx-1.10/reference/generated/networkx.algorithms.shortest_paths.generic.shortest_path_length.html\n",
    "#         https://networkx.github.io/documentation/networkx-1.10/reference/generated/networkx.algorithms.shortest_paths.generic.average_shortest_path_length.html\n",
    "#         https://networkx.github.io/documentation/networkx-1.9/reference/generated/networkx.algorithms.assortativity.degree_assortativity_coefficient.html"
   ]
  },
  {
   "cell_type": "code",
   "execution_count": null,
   "metadata": {},
   "outputs": [],
   "source": [
    "#plotting a Complementary Cumulative Distribution Function (CCDF) for the network's degree distribution\n",
    "#import pyplot\n",
    "import matplotlib.pyplot as plt\n",
    "\n",
    "#capture and sort the degree data\n",
    "degree_data = [G.degree[i] for i in G.nodes()]\n",
    "sorted_degree_data = np.sort(data)\n",
    "\n",
    "#set up the list of y values\n",
    "y = []\n",
    "for i in range(len(sorted_data)):\n",
    "    y += [1-i/len(sorted_data)]\n",
    "\n",
    "#plot the CCDF\n",
    "plt.plot(sorted_data,y)\n",
    "\n",
    "#Sources: https://networkx.github.io/documentation/networkx-1.10/reference/generated/networkx.DiGraph.degree.html\n"
   ]
  },
  {
   "cell_type": "code",
   "execution_count": null,
   "metadata": {},
   "outputs": [],
   "source": [
    "#create an Erdos-Renyi random graph with a given number of nodes and approximate number of edges:\n",
    "nodes = 1200\n",
    "desired_edges: 2797\n",
    "p = 2*desired_edges/(nodes*(nodes-1))\n",
    "\n",
    "G = nx.gnp_random_graph(nodes, p, seed=42, directed = False)\n",
    "\n",
    "#Source: https://networkx.github.io/documentation/networkx-1.10/reference/generated/networkx.generators.random_graphs.gnp_random_graph.html\n",
    "\n"
   ]
  },
  {
   "cell_type": "code",
   "execution_count": null,
   "metadata": {},
   "outputs": [],
   "source": [
    "#function to create a random graph using the Barabasi-Albert algorithm\n",
    "#BA graphs are routinely scale-free\n",
    "\n",
    "def barabasi_albert_graph(n, m_o, m):\n",
    "    # Initial network of m_o nodes\n",
    "    G = nx.gnp_random_graph(m_o, 0.5, seed=42, directed = False)\n",
    "    \n",
    "    while G.number_of_nodes() < n:\n",
    "        #create the distribut9ion\n",
    "        degrees = [G.degree[i] for i in G.nodes()]\n",
    "        sum_degrees = sum(degrees)\n",
    "        node_probs = [i/sum_degrees for i in degrees] \n",
    "        #select nodes preferentially\n",
    "        picks = np.random.choice(G.nodes(), m, replace = False, p=node_probs)\n",
    "        #add a new node\n",
    "        x = G.number_of_nodes()\n",
    "        G.add_node(x)\n",
    "        #connect the new node to the m selected nodes\n",
    "        for i in range(m):\n",
    "            G.add_edge(x,picks[i])\n",
    "            \n",
    "    return G\n",
    "\n",
    "#source: Yang Yeol Ahn, Network Science class"
   ]
  },
  {
   "cell_type": "code",
   "execution_count": 11,
   "metadata": {},
   "outputs": [],
   "source": [
    "#function to select random edges from a graph\n",
    "def edge_selector(G, n):\n",
    "    x = np.random.choice(range(len(G.edges)), n, replace = False)\n",
    "    i = 0\n",
    "    edges = []\n",
    "    for e in G.edges():\n",
    "        if i in x:\n",
    "            edges += [e]\n",
    "        i += 1\n",
    "\n",
    "    return edges\n",
    "\n",
    "#function to generate a BA graph through edge selection:\n",
    "def ba_graph2(n, m_o, m):\n",
    "    # Initial network of m_o nodes\n",
    "    G = nx.gnp_random_graph(m_o, 0.5, seed=42, directed = False)\n",
    "    \n",
    "    while G.number_of_nodes() < n:\n",
    "        edges = edge_selector(G, m)\n",
    "        nodes = []\n",
    "        for i in range(m):\n",
    "            if edges[i][0] > edges[i][1]:\n",
    "                nodes += [edges[i][0]]\n",
    "            else:\n",
    "                nodes += [edges[i][1]]\n",
    "        \n",
    "        x = G.number_of_nodes()\n",
    "        G.add_node(x)\n",
    "        for i in range(m):\n",
    "            G.add_edge(x,nodes[i])\n",
    "        \n",
    "            \n",
    "    return G\n",
    "\n",
    "#Source: me\n",
    "\n",
    "#test\n",
    "G3 =ba_graph2(n = 1400, m_o = 7, m = 2)\n",
    "G3.number_of_edges()"
   ]
  },
  {
   "cell_type": "code",
   "execution_count": null,
   "metadata": {},
   "outputs": [],
   "source": [
    "#generate a graph based on a configuration model and degree sequence\n",
    "\n",
    "#get the degree sequence\n",
    "degree_sequence = list(dict(nx.degree(G)).values())\n",
    "\n",
    "#Make the configuration model graph\n",
    "new_G = nx.configuration_model(degree_sequence)\n",
    "\n",
    "#Source: Yang Yeol Ahn, Network Science class"
   ]
  },
  {
   "cell_type": "code",
   "execution_count": null,
   "metadata": {},
   "outputs": [],
   "source": [
    "#attach eigenvector centralities to a graph as attributes:\n",
    "\n",
    "#Another way to generate a random ER graph\n",
    "my_graph = nx.erdos_renyi_graph(500, 0.3)\n",
    "\n",
    "# Get the eigenvector centralities for all the nodes\n",
    "centralities = nx.eigenvector_centrality(my_graph)\n",
    "\n",
    "# Set the attributes of the nodes to include the centralities\n",
    "# The arguments are: <graph> <values> <attribute key>\n",
    "# Where <values> is a dictionary with keys=nodes\n",
    "nx.set_node_attributes(my_graph,centralities, \"eigenvector\")\n",
    "\n",
    "# Now we can refer to the node's attributes in the graph\n",
    "print(my_graph.node[3][\"eigenvector\"])\n",
    "\n",
    "#Source: Yang Yeol Ahn, Network Science class"
   ]
  }
 ],
 "metadata": {
  "kernelspec": {
   "display_name": "Python 3",
   "language": "python",
   "name": "python3"
  },
  "language_info": {
   "codemirror_mode": {
    "name": "ipython",
    "version": 3
   },
   "file_extension": ".py",
   "mimetype": "text/x-python",
   "name": "python",
   "nbconvert_exporter": "python",
   "pygments_lexer": "ipython3",
   "version": "3.6.5"
  }
 },
 "nbformat": 4,
 "nbformat_minor": 2
}
