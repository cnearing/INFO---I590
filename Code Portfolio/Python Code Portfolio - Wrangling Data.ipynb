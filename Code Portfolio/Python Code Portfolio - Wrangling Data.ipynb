{
 "cells": [
  {
   "cell_type": "code",
   "execution_count": 1,
   "metadata": {},
   "outputs": [],
   "source": [
    "#pandas and numpy are core libraries for data wrangling\n",
    "import pandas as pd\n",
    "import numpy as np\n",
    "\n",
    "#re is not valuable for cleaning data that has been entered with inconsistent or incorrect syntax or type\n",
    "import re"
   ]
  },
  {
   "cell_type": "code",
   "execution_count": null,
   "metadata": {},
   "outputs": [],
   "source": [
    "#create a dataframe from lists or arrays\n",
    "list1 = [1, 2, 3]\n",
    "list2 = [2, 3, 4]\n",
    "list3 = [3, 4, 5]\n",
    "df = pd.DataFrame(np.array([list1, list2, list3]), columns=[\"column1\", \"column2\", \"column3\"])\n",
    "\n",
    "#another way to create a dataframe:\n",
    "df = pd.DataFrame({'A': {0: 'a', 1: 'b', 2: 'c'},\n",
    "                   'B': {0: 1, 1: 3, 2: 5},\n",
    "                   'C': {0: 2, 1: 4, 2: 6}})\n",
    "\n",
    "#create a dataframe from an existing dataframe piecemeal\n",
    "df2 = pd.DataFrame(index = df.index)\n",
    "df2[\"column 1\"] = df[\"column1\"]\n",
    "df2[\"column 2\"] = df[\"column3\"]\n",
    "\n",
    "#look at the header of the dataframe to see the structure\n",
    "df2.head()\n",
    "\n",
    "#source: https://pandas.pydata.org/pandas-docs/stable/reference/api/pandas.DataFrame.html"
   ]
  },
  {
   "cell_type": "code",
   "execution_count": null,
   "metadata": {},
   "outputs": [],
   "source": [
    "#shows where values are missing in a dataframe\n",
    "df.isna()\n",
    "\n",
    "#counts missing values by column\n",
    "df.isna().sum()\n",
    "\n",
    "#drops columns with missing values from the dataframe\n",
    "#use axis=1 to drop columns instead of rows.  \n",
    "#how=\"any\" drops rows where any of the checked values are missing, how=\"all\" drops rows where all the checked values are missing\n",
    "df.dropna(axis = 0, subset = [\"list of columns to checked\"], how = \"any\")\n",
    "\n",
    "#interpolates to fill missing values\n",
    "#use axis=1 to interpolate across rows rather than columns\n",
    "df.interpolate(method=\"linear\", axis = 0)\n",
    "\n",
    "#interpolates, reverses the order of the data, interpolates again, and reverses the order back\n",
    "#the point, here, is to catch missing values at both the end and the beginning of the data\n",
    "df.interpolate().sort_index(ascending=False).interpolate().sort_index()\n",
    "\n",
    "#Sources: https://pandas.pydata.org/pandas-docs/stable/reference/api/pandas.DataFrame.dropna.html\n",
    "#         https://pandas.pydata.org/pandas-docs/stable/reference/api/pandas.DataFrame.isna.html\n",
    "#         https://pandas.pydata.org/pandas-docs/stable/reference/api/pandas.DataFrame.interpolate.html\n",
    "#         https://pandas.pydata.org/pandas-docs/stable/reference/api/pandas.DataFrame.sort_index.html"
   ]
  },
  {
   "cell_type": "code",
   "execution_count": null,
   "metadata": {},
   "outputs": [],
   "source": [
    "#creates a list of unique values in a particular column in the dataframe\n",
    "values = []\n",
    "for i in df[\"column 1\"]:\n",
    "    if i not in values:\n",
    "        values.append(i)\n",
    "        \n",
    "#another way to create lists of unique values\n",
    "df[\"column name\"].drop_duplicates().to_list()\n",
    "\n",
    "#lists column names in a dataframe\n",
    "df.columns\n",
    "\n",
    "#renames columns in a dataframe\n",
    "df.columns = [\"column 1\", \"column 2\", \"column 3\"]\n",
    "\n",
    "#Sources: https://pandas.pydata.org/pandas-docs/stable/reference/api/pandas.DataFrame.drop_duplicates.html\n",
    "#         https://docs.scipy.org/doc/numpy/reference/generated/numpy.append.html"
   ]
  },
  {
   "cell_type": "code",
   "execution_count": null,
   "metadata": {},
   "outputs": [],
   "source": [
    "#subset a dataframe and pick a list of values from the subset as a list\n",
    "df[df[\"column 1\"]==1][\"column 2\"]\n",
    "\n",
    "#same thing, but as a list\n",
    "list(df[df[\"column 1\"]==1][\"column 2\"])\n",
    "\n",
    "#examples of subsets with and (&), or (|), .isin(), and inequalities\n",
    "target_list = [1,2]\n",
    "df3 = df[(df[\"column 1\"].isin(target_list))&(df[\"column 1\"] > 1)]\n",
    "\n",
    "#df.append adds rows to the bottom of a dataframe.  \n",
    "df3.append(df[(df[\"column 2\"].isin([2, 3]))|(df[\"column 3\"] < 3)])\n",
    "\n",
    "#drops selected columns from a dataframe\n",
    "df3.drop(labels=[\"column 3\"], axis=1)\n",
    "\n",
    "#source: https://pandas.pydata.org/pandas-docs/stable/reference/api/pandas.DataFrame.append.html\n",
    "#        https://pandas.pydata.org/pandas-docs/stable/reference/api/pandas.DataFrame.drop.html"
   ]
  },
  {
   "cell_type": "code",
   "execution_count": null,
   "metadata": {},
   "outputs": [],
   "source": [
    "#correct numeric data represented as strings with commas to the float datatype\n",
    "#code checks for and skips over missing values, since re.sub() will throw an error if it hits them\n",
    "nanlist = df.isna()[\"column 1\"]\n",
    "vallist = list(df[\"column 1\"])\n",
    "for i in range(len(vallist)):\n",
    "    if nanlist[i] == False:\n",
    "        vallist[i] = float(re.sub(\",\", \"\", vallist[i]))  "
   ]
  },
  {
   "cell_type": "code",
   "execution_count": null,
   "metadata": {},
   "outputs": [],
   "source": [
    "#some rudimentary text scraping and cleaning\n",
    "#pulls data out of text file, applies some cleaning with re.sub(), stores the result in another text file\n",
    "#hits all the files in a directory -- note that the storage file is in a different directory from the target files\n",
    "fw = open('storage_file.ext', 'w+')\n",
    "os.chdir('filepath')\n",
    "files = os.listdir()\n",
    "for file in files:\n",
    "    f = open(file)\n",
    "    for line in f:\n",
    "        if \"target string\" in line:\n",
    "            line = re.sub(\"string to be corrected\", \"correction\", line)\n",
    "            fw.write(line)\n",
    "    f.close()\n",
    "fw.close()\n",
    "\n",
    "#Source: me"
   ]
  },
  {
   "cell_type": "code",
   "execution_count": null,
   "metadata": {},
   "outputs": [],
   "source": [
    "#create a dataframe of catagorical means by year\n",
    "categories = []\n",
    "for i in df[\"category column\"]:\n",
    "    if i not in categories:\n",
    "        categories.append(i)\n",
    "        \n",
    "years = []\n",
    "for i in df[\"year column\"]:\n",
    "    if i not in years:\n",
    "        years.append(i)\n",
    "\n",
    "columns_df = list(df.columns)\n",
    "        \n",
    "df_category_means = pd.DataFrame(columns=columns_df)\n",
    "for category in categories:\n",
    "    for year in years:\n",
    "        df_hold = pd.DataFrame({\"category column\":[category],\n",
    "                                \"year\":[year],\n",
    "                                \"mean_variable_of_interest\": [np.mean(list(df[(df[\"category\"] == category)&(df[\"year\"] == year)][\"variable_of_interest\"]))]\n",
    "                               })\n",
    "        df_category_means = df_category_means.append(df_hold, ignore_index=True)\n",
    "        \n",
    "#Source: me"
   ]
  },
  {
   "cell_type": "code",
   "execution_count": null,
   "metadata": {},
   "outputs": [],
   "source": [
    "#pivoting a dataframe\n",
    "#note that this only works for a nice 2-dimensional table structure.  For higher dimensional data, adjustment will be required\n",
    "df_pivot = df.pivot(index='column 1', columns='column 2')['column 3']\n",
    "\n",
    "#source: https://pandas.pydata.org/pandas-docs/version/0.23.4/generated/pandas.DataFrame.pivot.html\n",
    "\n"
   ]
  },
  {
   "cell_type": "code",
   "execution_count": null,
   "metadata": {},
   "outputs": [],
   "source": [
    "#unpivoting, or \"melting\" a dataframe\n",
    "\n",
    "df = pd.DataFrame({'A': {0: 'a', 1: 'b', 2: 'c'},\n",
    "                   'B': {0: 1, 1: 3, 2: 5},\n",
    "                   'C': {0: 2, 1: 4, 2: 6}})\n",
    "\n",
    "pd.melt(df, id_vars=['A'], value_vars=['B'])\n",
    "\n",
    "#source: https://pandas.pydata.org/pandas-docs/stable/reference/api/pandas.melt.html"
   ]
  },
  {
   "cell_type": "code",
   "execution_count": 9,
   "metadata": {},
   "outputs": [
    {
     "data": {
      "text/html": [
       "<div>\n",
       "<style scoped>\n",
       "    .dataframe tbody tr th:only-of-type {\n",
       "        vertical-align: middle;\n",
       "    }\n",
       "\n",
       "    .dataframe tbody tr th {\n",
       "        vertical-align: top;\n",
       "    }\n",
       "\n",
       "    .dataframe thead th {\n",
       "        text-align: right;\n",
       "    }\n",
       "</style>\n",
       "<table border=\"1\" class=\"dataframe\">\n",
       "  <thead>\n",
       "    <tr style=\"text-align: right;\">\n",
       "      <th></th>\n",
       "      <th>A</th>\n",
       "      <th>B</th>\n",
       "      <th>C</th>\n",
       "      <th>Sum of B and C</th>\n",
       "    </tr>\n",
       "  </thead>\n",
       "  <tbody>\n",
       "    <tr>\n",
       "      <th>0</th>\n",
       "      <td>a</td>\n",
       "      <td>1</td>\n",
       "      <td>2</td>\n",
       "      <td>3</td>\n",
       "    </tr>\n",
       "    <tr>\n",
       "      <th>1</th>\n",
       "      <td>b</td>\n",
       "      <td>3</td>\n",
       "      <td>4</td>\n",
       "      <td>7</td>\n",
       "    </tr>\n",
       "    <tr>\n",
       "      <th>2</th>\n",
       "      <td>c</td>\n",
       "      <td>5</td>\n",
       "      <td>6</td>\n",
       "      <td>11</td>\n",
       "    </tr>\n",
       "  </tbody>\n",
       "</table>\n",
       "</div>"
      ],
      "text/plain": [
       "   A  B  C  Sum of B and C\n",
       "0  a  1  2               3\n",
       "1  b  3  4               7\n",
       "2  c  5  6              11"
      ]
     },
     "execution_count": 9,
     "metadata": {},
     "output_type": "execute_result"
    }
   ],
   "source": [
    "#adding a calculated column to a dataframe\n",
    "df = pd.DataFrame({'A': {0: 'a', 1: 'b', 2: 'c'},\n",
    "                   'B': {0: 1, 1: 3, 2: 5},\n",
    "                   'C': {0: 2, 1: 4, 2: 6}})\n",
    "\n",
    "#generate a list of values to be added\n",
    "result_list = []\n",
    "for i in range(len(df)):\n",
    "    result_list.append(df[\"B\"][i] + df[\"C\"][i])\n",
    "\n",
    "#turn the result list in to a one-column dataframe\n",
    "add_df = pd.DataFrame({\"Sum of B and C\": result_list})\n",
    "\n",
    "#join the new dataframe to the old one\n",
    "df = df.join(add_df)\n",
    "\n",
    "df\n"
   ]
  },
  {
   "cell_type": "code",
   "execution_count": null,
   "metadata": {},
   "outputs": [],
   "source": [
    "#Change a column in a dataframe to a new datatype:\n",
    "df.column.astype(type)\n",
    "\n",
    "#https://pandas.pydata.org/pandas-docs/stable/reference/api/pandas.DataFrame.astype.html"
   ]
  }
 ],
 "metadata": {
  "kernelspec": {
   "display_name": "Python 3",
   "language": "python",
   "name": "python3"
  },
  "language_info": {
   "codemirror_mode": {
    "name": "ipython",
    "version": 3
   },
   "file_extension": ".py",
   "mimetype": "text/x-python",
   "name": "python",
   "nbconvert_exporter": "python",
   "pygments_lexer": "ipython3",
   "version": "3.6.5"
  }
 },
 "nbformat": 4,
 "nbformat_minor": 2
}
